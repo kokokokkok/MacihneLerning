{
 "cells": [
  {
   "cell_type": "code",
   "execution_count": 18,
   "metadata": {},
   "outputs": [
    {
     "name": "stdout",
     "output_type": "stream",
     "text": [
      "訓練セットの精度:1.000\n",
      "テストセットの精度:0.972\n"
     ]
    }
   ],
   "source": [
    "from sklearn.ensemble import RandomForestClassifier #sklearn.ensemble から RandomForestClassifierをインポート\n",
    "from sklearn.model_selection import train_test_split #sklearn.model_selection から train_test_splitをインポート\n",
    "from sklearn.datasets import load_breast_cancer #sklearn.datasets から load_breast_cancerをインポート\n",
    "\n",
    "cancer = load_breast_cancer() #load_breast_cancerというデータを収納\n",
    "X_train,X_test,y_train,y_test = train_test_split(cancer.data,cancer.target,random_state=0) #訓練用とテスト用のデータに分ける、\n",
    "rf_clf = RandomForestClassifier(n_estimators=100,random_state=0).fit(X_train,y_train) #ランダムフォレストを乱数値０、弱識別機木の数を100にして実行\n",
    "print(\"訓練セットの精度:{:.3f}\".format(rf_clf.score(X_train,y_train))) #訓練用のデータの精度を少数第三位まで表示\n",
    "print(\"テストセットの精度:{:.3f}\".format(rf_clf.score(X_test,y_test))) #テスト用のデータの精度を少数第三位まで表示"
   ]
  },
  {
   "cell_type": "code",
   "execution_count": 17,
   "metadata": {},
   "outputs": [
    {
     "name": "stdout",
     "output_type": "stream",
     "text": [
      "訓練セットの精度:1.000\n",
      "テストセットの精度:0.958\n"
     ]
    }
   ],
   "source": [
    "from sklearn.ensemble import GradientBoostingClassifier #sklearn.ensemble から GradientBoostingClassifierをインポート\n",
    "X_train,X_test,y_train,y_test = train_test_split(cancer.data,cancer.target,random_state=0) #訓練用とテスト用のデータに分ける、\n",
    "gbrt_clf = GradientBoostingClassifier(random_state=0).fit(X_train,y_train) #勾配ブースティングを乱数値０で実行\n",
    "print(\"訓練セットの精度:{:.3f}\".format(gbrt_clf.score(X_train,y_train))) #訓練用のデータの精度を少数第三位まで表示\n",
    "print(\"テストセットの精度:{:.3f}\".format(gbrt_clf.score(X_test,y_test))) #テスト用のデータの精度を少数第三位まで表示"
   ]
  },
  {
   "cell_type": "code",
   "execution_count": 20,
   "metadata": {},
   "outputs": [
    {
     "name": "stdout",
     "output_type": "stream",
     "text": [
      "訓練セットの精度:0.927\n",
      "テストセットの精度:0.958\n"
     ]
    }
   ],
   "source": [
    "gbrt_clf = GradientBoostingClassifier(random_state=0,max_depth=1,learning_rate=.01).fit(X_train,y_train) #勾配ブースティングを乱数値０、最大の決定木の深さ１、間違い訂正のスピードを0.01で実行\n",
    "print(\"訓練セットの精度:{:.3f}\".format(gbrt_clf.score(X_train,y_train))) #訓練用のデータの精度を少数第三位まで表示\n",
    "print(\"テストセットの精度:{:.3f}\".format(gbrt_clf.score(X_test,y_test))) #テスト用のデータの精度を少数第三位まで表示"
   ]
  },
  {
   "cell_type": "code",
   "execution_count": 15,
   "metadata": {},
   "outputs": [],
   "source": [
    "import pandas as pd #pandasをpdとしてインポート\n",
    "dat = pd.read_csv(\"kabuka.csv\",index_col=0) #kabuka.csvを0列目を項目として読み込む\n",
    "X = dat.drop(\"kabuka\",axis=1) #kabukaの１行目以外を収納\n",
    "y = dat.kabuka #kabuka全体を収納\n",
    "X_train,X_test,y_train,y_test = train_test_split(X,y,random_state=0) #訓練用とテスト用のデータに分ける"
   ]
  },
  {
   "cell_type": "code",
   "execution_count": 7,
   "metadata": {},
   "outputs": [
    {
     "name": "stdout",
     "output_type": "stream",
     "text": [
      "訓練セットの精度:1.000\n",
      "テストセットの精度:0.480\n"
     ]
    }
   ],
   "source": [
    "rf_clf = RandomForestClassifier(n_estimators=100,random_state=0).fit(X_train,y_train) #ランダムフォレストを乱数値０、弱識別機木の数を100にして実行\n",
    "print(\"訓練セットの精度:{:.3f}\".format(rf_clf.score(X_train,y_train))) #訓練用のデータの精度を少数第三位まで表示\n",
    "print(\"テストセットの精度:{:.3f}\".format(rf_clf.score(X_test,y_test))) #テスト用のデータの精度を少数第三位まで表示"
   ]
  },
  {
   "cell_type": "code",
   "execution_count": 21,
   "metadata": {},
   "outputs": [
    {
     "name": "stdout",
     "output_type": "stream",
     "text": [
      "訓練セットの精度:0.927\n",
      "テストセットの精度:0.958\n"
     ]
    }
   ],
   "source": [
    "gbrt_clf = GradientBoostingClassifier(random_state=0,max_depth=1,learning_rate=.01).fit(X_train,y_train) ##勾配ブースティングを乱数値０、最大の決定木の深さ１、間違い訂正のスピー\n",
    "print(\"訓練セットの精度:{:.3f}\".format(gbrt_clf.score(X_train,y_train))) #訓練用のデータの精度を少数第三位まで表示\n",
    "print(\"テストセットの精度:{:.3f}\".format(gbrt_clf.score(X_test,y_test))) #テスト用のデータの精度を少数第三位まで表示"
   ]
  },
  {
   "cell_type": "code",
   "execution_count": null,
   "metadata": {},
   "outputs": [],
   "source": []
  }
 ],
 "metadata": {
  "kernelspec": {
   "display_name": "Python 3.7.3 ('base')",
   "language": "python",
   "name": "python3"
  },
  "language_info": {
   "codemirror_mode": {
    "name": "ipython",
    "version": 3
   },
   "file_extension": ".py",
   "mimetype": "text/x-python",
   "name": "python",
   "nbconvert_exporter": "python",
   "pygments_lexer": "ipython3",
   "version": "3.7.3"
  },
  "vscode": {
   "interpreter": {
    "hash": "2cd890ab2d88372321554bf6f5781d8f3ab1a9e4b50569869edc209ac897a1cd"
   }
  }
 },
 "nbformat": 4,
 "nbformat_minor": 2
}
